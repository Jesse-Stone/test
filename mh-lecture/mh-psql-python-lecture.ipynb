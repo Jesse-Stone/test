{
 "cells": [
  {
   "cell_type": "markdown",
   "metadata": {},
   "source": [
    "#Using PostgreSql in Python (Psycopg2) to build data pipelines\n",
    "\n",
    "###What is Psycopg2?\n",
    "A library that allows Python to set up connection to an existing Postgres database to utilize SQL functionalities.\n",
    "\n",
    "###Why\n",
    "- Very useful for scaled data pipelines, pre-cleaning, data exploration\n",
    "- Allows for dynamic query generation\n",
    "\n",
    "###Documentations\n",
    "* http://initd.org/psycopg/docs/install.html"
   ]
  },
  {
   "cell_type": "markdown",
   "metadata": {},
   "source": [
    "#Objectives\n",
    "\n",
    "- Learn how to connect to and run Postgres queries from Python\n",
    "- Understand cursors, executes, and commits\n",
    "- Learn how to generate dynamic queries"
   ]
  },
  {
   "cell_type": "markdown",
   "metadata": {},
   "source": [
    "#Key Things to Know\n",
    "\n",
    "* Connections must be established using an existing database, username, database IP/URL, and maybe passwords\n",
    "* If you have no created databases, you can connect to Postgres using the dbname 'postgres' to initialize db commands\n",
    "* Data changes are not actually stored until you choose to commit. This can be done either through commit() or setting autocommit = True.  Until commited, all transactions is only temporary stored.\n",
    "* SQL connection databases utilizes cursors for data traversal and retrieval.  This is kind of like an iterator in Python.\n",
    "* Cursor operations typically goes like the following:\n",
    "    - execute a query\n",
    "    - fetch rows from query result if it is a SELECT query\n",
    "    - because it is iterative, previously fetched rows can only be fetched again by rerunning the query\n",
    "    - close cursor through .close()\n",
    "* Cursors and Connections must be closed using .close() or else Postgres will lock certain operation on the database/tables to connection is severed. "
   ]
  },
  {
   "cell_type": "markdown",
   "metadata": {},
   "source": [
    "#Fun facts\n",
    "\n",
    "* If you ever need to build similar pipelines for other forms of database, there are libraries such Pyodbc which operates essentially the same\n",
    "* Autocommit = True is necessary to do database commands like CREATE DATABASE.  This is because Postgres does not have temporary transactions at the database level."
   ]
  },
  {
   "cell_type": "markdown",
   "metadata": {},
   "source": [
    "#Installation"
   ]
  },
  {
   "cell_type": "code",
   "execution_count": 1,
   "metadata": {
    "collapsed": false
   },
   "outputs": [
    {
     "name": "stdout",
     "output_type": "stream",
     "text": [
      "Requirement already satisfied (use --upgrade to upgrade): psycopg2 in /Users/minghuang/anaconda/lib/python2.7/site-packages\r\n"
     ]
    }
   ],
   "source": [
    "!pip install psycopg2"
   ]
  },
  {
   "cell_type": "markdown",
   "metadata": {},
   "source": [
    "#Creating a connection with Postgres"
   ]
  },
  {
   "cell_type": "markdown",
   "metadata": {},
   "source": [
    "###Import"
   ]
  },
  {
   "cell_type": "code",
   "execution_count": 2,
   "metadata": {
    "collapsed": true
   },
   "outputs": [],
   "source": [
    "import psycopg2 as pg2"
   ]
  },
  {
   "cell_type": "markdown",
   "metadata": {},
   "source": [
    "###Create connection with Postgres"
   ]
  },
  {
   "cell_type": "code",
   "execution_count": 3,
   "metadata": {
    "collapsed": false
   },
   "outputs": [],
   "source": [
    "conn = pg2.connect(dbname='postgres', user='minghuang', host = 'localhost')\n",
    "\n",
    "# Autocommit is necessary when initializing db commands through the default Postgres connection\n",
    "conn.autocommit = True"
   ]
  },
  {
   "cell_type": "markdown",
   "metadata": {},
   "source": [
    "###Retrieve the Cursor\n",
    "\n",
    "* A cursor is a control structure that enables traversal over the records in a database.  You can think of it as an iterator or pointer for Sql data retrieval."
   ]
  },
  {
   "cell_type": "code",
   "execution_count": 4,
   "metadata": {
    "collapsed": true
   },
   "outputs": [],
   "source": [
    "cur = conn.cursor()"
   ]
  },
  {
   "cell_type": "markdown",
   "metadata": {},
   "source": [
    "#Create a database"
   ]
  },
  {
   "cell_type": "code",
   "execution_count": 5,
   "metadata": {
    "collapsed": true
   },
   "outputs": [],
   "source": [
    "# Commented out just incase students accounters permission issue with creating databases\n",
    "#cur.execute('ALTER USER minghuang CREATEDB')"
   ]
  },
  {
   "cell_type": "code",
   "execution_count": 7,
   "metadata": {
    "collapsed": false
   },
   "outputs": [],
   "source": [
    "# Deletes database if it exists.  This is useful for iterative testing.\n",
    "cur.execute('DROP DATABASE IF EXISTS test;')"
   ]
  },
  {
   "cell_type": "code",
   "execution_count": 8,
   "metadata": {
    "collapsed": false
   },
   "outputs": [],
   "source": [
    "cur.execute('CREATE DATABASE test;')"
   ]
  },
  {
   "cell_type": "markdown",
   "metadata": {},
   "source": [
    "#Disconnect from the cursor and database"
   ]
  },
  {
   "cell_type": "code",
   "execution_count": 9,
   "metadata": {
    "collapsed": true
   },
   "outputs": [],
   "source": [
    "cur.close() # Optional since you can just close the connection\n",
    "conn.close()"
   ]
  },
  {
   "cell_type": "markdown",
   "metadata": {},
   "source": [
    "#Lets use our new database"
   ]
  },
  {
   "cell_type": "code",
   "execution_count": 10,
   "metadata": {
    "collapsed": true
   },
   "outputs": [],
   "source": [
    "conn = pg2.connect(dbname='test', user='minghuang', host = 'localhost')\n",
    "cur = conn.cursor()"
   ]
  },
  {
   "cell_type": "code",
   "execution_count": 11,
   "metadata": {
    "collapsed": false
   },
   "outputs": [],
   "source": [
    "# Deletes table if it exists.  This is useful for iterative testing.\n",
    "cur.execute('DROP TABLE IF EXISTS logins;')"
   ]
  },
  {
   "cell_type": "markdown",
   "metadata": {},
   "source": [
    "###Create a new table"
   ]
  },
  {
   "cell_type": "code",
   "execution_count": 12,
   "metadata": {
    "collapsed": false
   },
   "outputs": [],
   "source": [
    "query = '''\n",
    "        CREATE TABLE logins (\n",
    "            userid integer\n",
    "            , tmstmp timestamp\n",
    "            , type varchar(10)\n",
    "        );\n",
    "        '''\n",
    "cur.execute(query)"
   ]
  },
  {
   "cell_type": "markdown",
   "metadata": {
    "collapsed": false
   },
   "source": [
    "###Insert csv into new table"
   ]
  },
  {
   "cell_type": "code",
   "execution_count": 13,
   "metadata": {
    "collapsed": false
   },
   "outputs": [],
   "source": [
    "query = '''\n",
    "        COPY logins \n",
    "        FROM '/Users/minghuang/Documents/git/zipfian-dsr/sql-python/mh-lecture/data/logins01.csv' \n",
    "        DELIMITER ',' \n",
    "        CSV;\n",
    "        '''\n",
    "cur.execute(query)"
   ]
  },
  {
   "cell_type": "markdown",
   "metadata": {},
   "source": [
    "###Lets take a look at the data"
   ]
  },
  {
   "cell_type": "code",
   "execution_count": 14,
   "metadata": {
    "collapsed": true
   },
   "outputs": [],
   "source": [
    "query = '''\n",
    "        SELECT *\n",
    "        FROM logins\n",
    "        LIMIT 30;\n",
    "        '''\n",
    "cur.execute(query)"
   ]
  },
  {
   "cell_type": "markdown",
   "metadata": {},
   "source": [
    "###One line at a time"
   ]
  },
  {
   "cell_type": "code",
   "execution_count": 15,
   "metadata": {
    "collapsed": false
   },
   "outputs": [
    {
     "data": {
      "text/plain": [
       "(579, datetime.datetime(2013, 11, 20, 3, 20, 6), 'mobile')"
      ]
     },
     "execution_count": 15,
     "metadata": {},
     "output_type": "execute_result"
    }
   ],
   "source": [
    "cur.fetchone()"
   ]
  },
  {
   "cell_type": "markdown",
   "metadata": {},
   "source": [
    "###Many lines at a time"
   ]
  },
  {
   "cell_type": "code",
   "execution_count": 16,
   "metadata": {
    "collapsed": false
   },
   "outputs": [
    {
     "data": {
      "text/plain": [
       "[(823, datetime.datetime(2013, 11, 20, 3, 20, 49), 'web'),\n",
       " (953, datetime.datetime(2013, 11, 20, 3, 28, 49), 'web'),\n",
       " (612, datetime.datetime(2013, 11, 20, 3, 36, 55), 'web'),\n",
       " (269, datetime.datetime(2013, 11, 20, 3, 43, 13), 'web'),\n",
       " (799, datetime.datetime(2013, 11, 20, 3, 56, 55), 'web'),\n",
       " (890, datetime.datetime(2013, 11, 20, 4, 2, 33), 'mobile'),\n",
       " (330, datetime.datetime(2013, 11, 20, 4, 54, 59), 'mobile'),\n",
       " (628, datetime.datetime(2013, 11, 20, 4, 57, 22), 'mobile'),\n",
       " (398, datetime.datetime(2013, 11, 20, 5, 3, 19), 'mobile'),\n",
       " (482, datetime.datetime(2013, 11, 20, 5, 4, 43), 'mobile')]"
      ]
     },
     "execution_count": 16,
     "metadata": {},
     "output_type": "execute_result"
    }
   ],
   "source": [
    "cur.fetchmany(10)"
   ]
  },
  {
   "cell_type": "markdown",
   "metadata": {},
   "source": [
    "###Or everything at once"
   ]
  },
  {
   "cell_type": "code",
   "execution_count": 17,
   "metadata": {
    "collapsed": false
   },
   "outputs": [
    {
     "data": {
      "text/plain": [
       "[(581, datetime.datetime(2013, 11, 20, 5, 12, 3), 'mobile'),\n",
       " (370, datetime.datetime(2013, 11, 20, 5, 26, 46), 'mobile'),\n",
       " (230, datetime.datetime(2013, 11, 20, 5, 28, 29), 'web'),\n",
       " (596, datetime.datetime(2013, 11, 20, 5, 28, 36), 'web'),\n",
       " (274, datetime.datetime(2013, 11, 20, 5, 43, 8), 'mobile'),\n",
       " (581, datetime.datetime(2013, 11, 20, 5, 47, 10), 'web'),\n",
       " (417, datetime.datetime(2013, 11, 20, 5, 54, 37), 'mobile'),\n",
       " (185, datetime.datetime(2013, 11, 20, 5, 56, 22), 'mobile'),\n",
       " (371, datetime.datetime(2013, 11, 20, 5, 58, 35), 'mobile'),\n",
       " (133, datetime.datetime(2013, 11, 20, 5, 59, 7), 'web'),\n",
       " (621, datetime.datetime(2013, 11, 20, 6, 1, 46), 'web'),\n",
       " (306, datetime.datetime(2013, 11, 20, 6, 3, 23), 'mobile'),\n",
       " (509, datetime.datetime(2013, 11, 20, 6, 4, 43), 'web'),\n",
       " (505, datetime.datetime(2013, 11, 20, 6, 9, 52), 'web'),\n",
       " (678, datetime.datetime(2013, 11, 20, 6, 34, 18), 'web'),\n",
       " (889, datetime.datetime(2013, 11, 20, 6, 36, 32), 'mobile'),\n",
       " (202, datetime.datetime(2013, 11, 20, 6, 43, 33), 'mobile'),\n",
       " (614, datetime.datetime(2013, 11, 20, 6, 47, 55), 'mobile'),\n",
       " (882, datetime.datetime(2013, 11, 20, 6, 49), 'mobile')]"
      ]
     },
     "execution_count": 17,
     "metadata": {},
     "output_type": "execute_result"
    }
   ],
   "source": [
    "cur.fetchall()"
   ]
  },
  {
   "cell_type": "markdown",
   "metadata": {},
   "source": [
    "#Dynamic Queries\n",
    "\n",
    "We have 8 login csv files that we need to insert into the logins table.  Instead of doing a COPY FROM query 8 times, we should utilize Python (or any future languages) to make this more efficient.  This is possible due to tokenized strings."
   ]
  },
  {
   "cell_type": "code",
   "execution_count": 18,
   "metadata": {
    "collapsed": true
   },
   "outputs": [],
   "source": [
    "# os is needed because we want to dynamically identify the files we need to insert.\n",
    "import os"
   ]
  },
  {
   "cell_type": "code",
   "execution_count": 19,
   "metadata": {
    "collapsed": false
   },
   "outputs": [
    {
     "name": "stdout",
     "output_type": "stream",
     "text": [
      "'/Users/minghuang/Documents/git/zipfian-dsr/sql-python/mh-lecture/data/logins02.csv'inserted\n",
      "'/Users/minghuang/Documents/git/zipfian-dsr/sql-python/mh-lecture/data/logins03.csv'inserted\n",
      "'/Users/minghuang/Documents/git/zipfian-dsr/sql-python/mh-lecture/data/logins04.csv'inserted\n",
      "'/Users/minghuang/Documents/git/zipfian-dsr/sql-python/mh-lecture/data/logins05.csv'inserted\n",
      "'/Users/minghuang/Documents/git/zipfian-dsr/sql-python/mh-lecture/data/logins06.csv'inserted\n",
      "'/Users/minghuang/Documents/git/zipfian-dsr/sql-python/mh-lecture/data/logins07.csv'inserted\n",
      "'/Users/minghuang/Documents/git/zipfian-dsr/sql-python/mh-lecture/data/logins08.csv'inserted\n"
     ]
    }
   ],
   "source": [
    "query = '''\n",
    "        COPY logins \n",
    "        FROM {file_path} \n",
    "        DELIMITER ',' \n",
    "        CSV;\n",
    "        '''\n",
    "\n",
    "folder_path = '/Users/minghuang/Documents/git/zipfian-dsr/sql-python/mh-lecture/data/'\n",
    "\n",
    "for f in os.listdir(folder_path):\n",
    "    if f.endswith('.csv') and f != 'logins01.csv':\n",
    "        file_path = \"'{0}'\".format(folder_path + f)\n",
    "        cur.execute(query.format(file_path=file_path))\n",
    "        print file_path + 'inserted'"
   ]
  },
  {
   "cell_type": "code",
   "execution_count": 20,
   "metadata": {
    "collapsed": false
   },
   "outputs": [
    {
     "data": {
      "text/plain": [
       "[(78588L,)]"
      ]
     },
     "execution_count": 20,
     "metadata": {},
     "output_type": "execute_result"
    }
   ],
   "source": [
    "cur.execute('SELECT count(*) FROM logins;')\n",
    "cur.fetchall()"
   ]
  },
  {
   "cell_type": "markdown",
   "metadata": {},
   "source": [
    "###Don't forget to commit your changes"
   ]
  },
  {
   "cell_type": "code",
   "execution_count": 21,
   "metadata": {
    "collapsed": true
   },
   "outputs": [],
   "source": [
    "conn.commit()"
   ]
  },
  {
   "cell_type": "markdown",
   "metadata": {},
   "source": [
    "#All done!  Time for morning exercise!"
   ]
  },
  {
   "cell_type": "code",
   "execution_count": 22,
   "metadata": {
    "collapsed": true
   },
   "outputs": [],
   "source": [
    "conn.close()"
   ]
  },
  {
   "cell_type": "code",
   "execution_count": null,
   "metadata": {
    "collapsed": true
   },
   "outputs": [],
   "source": []
  }
 ],
 "metadata": {
  "kernelspec": {
   "display_name": "Python 2",
   "language": "python",
   "name": "python2"
  },
  "language_info": {
   "codemirror_mode": {
    "name": "ipython",
    "version": 2
   },
   "file_extension": ".py",
   "mimetype": "text/x-python",
   "name": "python",
   "nbconvert_exporter": "python",
   "pygments_lexer": "ipython2",
   "version": "2.7.10"
  }
 },
 "nbformat": 4,
 "nbformat_minor": 0
}
